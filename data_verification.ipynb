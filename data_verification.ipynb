{
 "cells": [
  {
   "cell_type": "code",
   "execution_count": 1,
   "metadata": {},
   "outputs": [
    {
     "name": "stdout",
     "output_type": "stream",
     "text": [
      "Fichier : train.csv\n",
      "- Taille identique : ✅\n",
      "- Contenu identique : ✅\n",
      "\n",
      "Fichier : test.csv\n",
      "- Taille identique : ✅\n",
      "- Contenu identique : ✅\n",
      "\n"
     ]
    }
   ],
   "source": [
    "import os\n",
    "import filecmp\n",
    "\n",
    "# Définir les chemins des fichiers\n",
    "base_path = \"/home/faridig/dev_ia/extraction-multisource/data/raw/blob/machine_learning/reviews\"\n",
    "extracted_path = f\"{base_path}/extracted/amazon_review_polarity_csv\"\n",
    "\n",
    "# Fichiers à comparer\n",
    "files = [\"train.csv\", \"test.csv\"]\n",
    "\n",
    "# Vérification de chaque fichier\n",
    "for file_name in files:\n",
    "    file1 = os.path.join(base_path, file_name)\n",
    "    file2 = os.path.join(extracted_path, file_name)\n",
    "\n",
    "    # Vérification des tailles des fichiers\n",
    "    size_match = os.path.getsize(file1) == os.path.getsize(file2)\n",
    "\n",
    "    # Vérification du contenu\n",
    "    content_match = filecmp.cmp(file1, file2, shallow=False)\n",
    "\n",
    "    # Résultats\n",
    "    print(f\"Fichier : {file_name}\")\n",
    "    print(f\"- Taille identique : {'✅' if size_match else '❌'}\")\n",
    "    print(f\"- Contenu identique : {'✅' if content_match else '❌'}\\n\")\n"
   ]
  },
  {
   "cell_type": "code",
   "execution_count": 2,
   "metadata": {},
   "outputs": [
    {
     "name": "stdout",
     "output_type": "stream",
     "text": [
      "🟢 Aperçu des 5 premières lignes de train.csv :\n",
      "   class                                              title  \\\n",
      "0      2                     Stuning even for the non-gamer   \n",
      "1      2              The best soundtrack ever to anything.   \n",
      "2      2                                           Amazing!   \n",
      "3      2                               Excellent Soundtrack   \n",
      "4      2  Remember, Pull Your Jaw Off The Floor After He...   \n",
      "\n",
      "                                                text  \n",
      "0  This sound track was beautiful! It paints the ...  \n",
      "1  I'm reading a lot of reviews saying that this ...  \n",
      "2  This soundtrack is my favorite music of all ti...  \n",
      "3  I truly like this soundtrack and I enjoy video...  \n",
      "4  If you've played the game, you know how divine...  \n",
      "\n",
      "🔵 Aperçu des 5 premières lignes de test.csv :\n",
      "   class                                              title  \\\n",
      "0      2                                           Great CD   \n",
      "1      2  One of the best game music soundtracks - for a...   \n",
      "2      1                   Batteries died within a year ...   \n",
      "3      2              works fine, but Maha Energy is better   \n",
      "4      2                       Great for the non-audiophile   \n",
      "\n",
      "                                                text  \n",
      "0  My lovely Pat has one of the GREAT voices of h...  \n",
      "1  Despite the fact that I have only played a sma...  \n",
      "2  I bought this charger in Jul 2003 and it worke...  \n",
      "3  Check out Maha Energy's website. Their Powerex...  \n",
      "4  Reviewed quite a bit of the combo players and ...  \n",
      "\n",
      "📝 Vérification des colonnes :\n",
      "Colonnes de train.csv : ['class', 'title', 'text']\n",
      "Colonnes de test.csv : ['class', 'title', 'text']\n",
      "\n",
      "📊 Distribution des classes dans train.csv :\n",
      "class\n",
      "2    1800000\n",
      "1    1800000\n",
      "Name: count, dtype: int64\n",
      "\n",
      "📊 Distribution des classes dans test.csv :\n",
      "class\n",
      "2    200000\n",
      "1    200000\n",
      "Name: count, dtype: int64\n",
      "\n",
      "📏 Nombre de lignes et de colonnes :\n",
      "Train.csv : 3600000 lignes, 3 colonnes\n",
      "Test.csv : 400000 lignes, 3 colonnes\n"
     ]
    }
   ],
   "source": [
    "import pandas as pd\n",
    "\n",
    "# Chemins des fichiers\n",
    "train_path = \"data/raw/blob/machine_learning/reviews/extracted/amazon_review_polarity_csv/train.csv\"\n",
    "test_path = \"data/raw/blob/machine_learning/reviews/extracted/amazon_review_polarity_csv/test.csv\"\n",
    "\n",
    "# Charger les fichiers\n",
    "train_data = pd.read_csv(train_path, header=None, names=[\"class\", \"title\", \"text\"])\n",
    "test_data = pd.read_csv(test_path, header=None, names=[\"class\", \"title\", \"text\"])\n",
    "\n",
    "# Aperçu des données\n",
    "print(\"🟢 Aperçu des 5 premières lignes de train.csv :\")\n",
    "print(train_data.head())\n",
    "\n",
    "print(\"\\n🔵 Aperçu des 5 premières lignes de test.csv :\")\n",
    "print(test_data.head())\n",
    "\n",
    "# Vérifier la structure\n",
    "print(\"\\n📝 Vérification des colonnes :\")\n",
    "print(\"Colonnes de train.csv :\", train_data.columns.tolist())\n",
    "print(\"Colonnes de test.csv :\", test_data.columns.tolist())\n",
    "\n",
    "# Vérifier la distribution des classes\n",
    "print(\"\\n📊 Distribution des classes dans train.csv :\")\n",
    "print(train_data['class'].value_counts())\n",
    "\n",
    "print(\"\\n📊 Distribution des classes dans test.csv :\")\n",
    "print(test_data['class'].value_counts())\n",
    "\n",
    "# Vérifier les tailles des fichiers\n",
    "print(\"\\n📏 Nombre de lignes et de colonnes :\")\n",
    "print(f\"Train.csv : {train_data.shape[0]} lignes, {train_data.shape[1]} colonnes\")\n",
    "print(f\"Test.csv : {test_data.shape[0]} lignes, {test_data.shape[1]} colonnes\")\n"
   ]
  },
  {
   "cell_type": "code",
   "execution_count": 4,
   "metadata": {},
   "outputs": [
    {
     "name": "stdout",
     "output_type": "stream",
     "text": [
      "✅ Fichiers TGZ extraits avec succès dans data/raw/blob/machine_learning/reviews/extracted/\n"
     ]
    },
    {
     "data": {
      "text/plain": [
       "True"
      ]
     },
     "execution_count": 4,
     "metadata": {},
     "output_type": "execute_result"
    }
   ],
   "source": [
    "from src.extraction.extract_zip import extract_file\n",
    "\n",
    "archive_path = \"data/raw/blob/machine_learning/reviews/amazon_review_polarity_csv.tgz\"\n",
    "extract_to_path = \"data/raw/blob/machine_learning/reviews/extracted/\"\n",
    "extract_file(archive_path, extract_to_path, \"tgz\")\n"
   ]
  }
 ],
 "metadata": {
  "kernelspec": {
   "display_name": "venv",
   "language": "python",
   "name": "python3"
  },
  "language_info": {
   "codemirror_mode": {
    "name": "ipython",
    "version": 3
   },
   "file_extension": ".py",
   "mimetype": "text/x-python",
   "name": "python",
   "nbconvert_exporter": "python",
   "pygments_lexer": "ipython3",
   "version": "3.10.12"
  }
 },
 "nbformat": 4,
 "nbformat_minor": 2
}
