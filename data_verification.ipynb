{
 "cells": [
  {
   "cell_type": "code",
   "execution_count": 1,
   "metadata": {},
   "outputs": [
    {
     "name": "stdout",
     "output_type": "stream",
     "text": [
      "Fichier : train.csv\n",
      "- Taille identique : ✅\n",
      "- Contenu identique : ✅\n",
      "\n",
      "Fichier : test.csv\n",
      "- Taille identique : ✅\n",
      "- Contenu identique : ✅\n",
      "\n"
     ]
    }
   ],
   "source": [
    "#comparaison entre train/test de reviews.zip et ceux de amazon_review_polarity_csv.tgz\n",
    "\n",
    "import os\n",
    "import filecmp\n",
    "\n",
    "# Définir les chemins des fichiers\n",
    "base_path = \"data_temporaire/machine_learning/machine_learning_extract\"\n",
    "extracted_path = f\"{base_path}/amazon_review_polarity_csv\"\n",
    "\n",
    "# Fichiers à comparer\n",
    "files = [\"train.csv\", \"test.csv\"]\n",
    "\n",
    "# Vérification de chaque fichier\n",
    "for file_name in files:\n",
    "    file1 = os.path.join(base_path, file_name)\n",
    "    file2 = os.path.join(extracted_path, file_name)\n",
    "\n",
    "    # Vérification des tailles des fichiers\n",
    "    size_match = os.path.getsize(file1) == os.path.getsize(file2)\n",
    "\n",
    "    # Vérification du contenu (ligne par ligne, caractère par caractère)\n",
    "    content_match = filecmp.cmp(file1, file2, shallow=False)\n",
    "\n",
    "    # Résultats\n",
    "    print(f\"Fichier : {file_name}\")\n",
    "    print(f\"- Taille identique : {'✅' if size_match else '❌'}\")\n",
    "    print(f\"- Contenu identique : {'✅' if content_match else '❌'}\\n\")\n"
   ]
  },
  {
   "cell_type": "code",
   "execution_count": 5,
   "metadata": {},
   "outputs": [
    {
     "name": "stdout",
     "output_type": "stream",
     "text": [
      "🔍 Vérification du fichier : data/product_eval/test-00000-of-00003.csv\n",
      "❌ 33334 lignes avec des paddings incorrects trouvées.\n",
      "Lignes problématiques : [0, 1, 2, 3, 4, 5, 6, 7, 8, 9]...\n"
     ]
    }
   ],
   "source": [
    "import pandas as pd\n",
    "import re\n",
    "\n",
    "def is_valid_base64(s):\n",
    "    \"\"\"\n",
    "    Vérifie si une chaîne est correctement encodée en Base64 avec un padding valide.\n",
    "    \"\"\"\n",
    "    if not isinstance(s, str):\n",
    "        return False\n",
    "    # Vérifie le format Base64 (y compris le padding '=')\n",
    "    return bool(re.fullmatch(r'^[A-Za-z0-9+/]*={0,2}$', s))\n",
    "\n",
    "def check_base64_padding_in_csv(csv_file, column_name):\n",
    "    \"\"\"\n",
    "    Vérifie le padding des chaînes Base64 dans une colonne donnée d'un fichier CSV.\n",
    "    \"\"\"\n",
    "    invalid_rows = []\n",
    "    try:\n",
    "        print(f\"🔍 Vérification du fichier : {csv_file}\")\n",
    "        # Charger le CSV en mémoire par morceaux pour limiter l'utilisation de RAM\n",
    "        for chunk in pd.read_csv(csv_file, chunksize=1000):\n",
    "            for index, row in chunk.iterrows():\n",
    "                value = row.get(column_name)\n",
    "                if pd.notna(value) and not is_valid_base64(value):\n",
    "                    invalid_rows.append(index)\n",
    "        \n",
    "        if invalid_rows:\n",
    "            print(f\"❌ {len(invalid_rows)} lignes avec des paddings incorrects trouvées.\")\n",
    "            print(f\"Lignes problématiques : {invalid_rows[:10]}{'...' if len(invalid_rows) > 10 else ''}\")\n",
    "        else:\n",
    "            print(f\"✔️ Toutes les chaînes dans la colonne '{column_name}' ont un padding valide.\")\n",
    "    except Exception as e:\n",
    "        print(f\"❌ Erreur lors de la vérification du fichier : {e}\")\n",
    "\n",
    "# Fichier CSV à vérifier\n",
    "csv_file_path = \"data/product_eval/test-00000-of-00003.csv\"\n",
    "# Nom de la colonne contenant les données Base64\n",
    "column_name = \"image\"\n",
    "\n",
    "# Exécuter la vérification\n",
    "check_base64_padding_in_csv(csv_file_path, column_name)\n"
   ]
  }
 ],
 "metadata": {
  "kernelspec": {
   "display_name": "venv",
   "language": "python",
   "name": "python3"
  },
  "language_info": {
   "codemirror_mode": {
    "name": "ipython",
    "version": 3
   },
   "file_extension": ".py",
   "mimetype": "text/x-python",
   "name": "python",
   "nbconvert_exporter": "python",
   "pygments_lexer": "ipython3",
   "version": "3.10.12"
  }
 },
 "nbformat": 4,
 "nbformat_minor": 2
}
